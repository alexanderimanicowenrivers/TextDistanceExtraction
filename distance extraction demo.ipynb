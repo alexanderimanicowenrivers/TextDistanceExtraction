{
 "cells": [
  {
   "cell_type": "code",
   "execution_count": 1,
   "metadata": {
    "scrolled": true
   },
   "outputs": [
    {
     "name": "stderr",
     "output_type": "stream",
     "text": [
      "INFO:root:Loading measurement words\n",
      "INFO:root:Test: measuremenent_words = PASSED\n",
      "INFO:root:Loaded Spacey Extractor\n",
      "INFO:root:Test: add_space_text = PASSED\n",
      "INFO:root:Test: extraction = PASSED\n",
      "INFO:root:Test: extraction = PASSED\n",
      "INFO:root:Test: meaurements --> cm = PASSED\n",
      "INFO:root:Test: comma_to_dot = PASSED\n",
      "INFO:root:Test: convert_to_cm = PASSED\n",
      "INFO:root:Test: normalise_measurements = PASSED\n",
      "INFO:root:Test: clean_failed_extractions = PASSED\n",
      "INFO:root:Loaded Successfully\n"
     ]
    }
   ],
   "source": [
    "from distance_extraction_utils import *"
   ]
  },
  {
   "cell_type": "code",
   "execution_count": 2,
   "metadata": {},
   "outputs": [
    {
     "data": {
      "text/plain": [
       "[\"You are 5'7 tall\",\n",
       " '5 ft 10 inches',\n",
       " 'My brother is 7ft 5',\n",
       " '5foot 10 in',\n",
       " '5 foot 9',\n",
       " '5feet 10 is my height',\n",
       " '33mm',\n",
       " '160,5 cm',\n",
       " 'I did a 12 km run yesterday',\n",
       " '12miles',\n",
       " 'It was 180.5 cm in length',\n",
       " '23 metres',\n",
       " 'the island is 12 nautical miles from here']"
      ]
     },
     "execution_count": 2,
     "metadata": {},
     "output_type": "execute_result"
    }
   ],
   "source": [
    "# Input data\n",
    "data"
   ]
  },
  {
   "cell_type": "code",
   "execution_count": 3,
   "metadata": {
    "scrolled": true
   },
   "outputs": [
    {
     "data": {
      "text/plain": [
       "[170.18,\n",
       " 177.8,\n",
       " 226.05999999999997,\n",
       " 177.8,\n",
       " 175.26,\n",
       " 152.4,\n",
       " 3.3,\n",
       " 160.5,\n",
       " 1200000.0,\n",
       " 1931208.0000000002,\n",
       " 180.5,\n",
       " 2300.0,\n",
       " 1380935.9999999998]"
      ]
     },
     "execution_count": 3,
     "metadata": {},
     "output_type": "execute_result"
    }
   ],
   "source": [
    "# Run function to extract distances and normalise to cm.\n",
    "extract_normalised_measurements(data)"
   ]
  },
  {
   "cell_type": "code",
   "execution_count": 4,
   "metadata": {},
   "outputs": [
    {
     "data": {
      "text/plain": [
       "['None']"
      ]
     },
     "execution_count": 4,
     "metadata": {},
     "output_type": "execute_result"
    }
   ],
   "source": [
    "# Example of failure. \n",
    "extract_normalised_measurements(['I have 3 cubic meteres of land'])"
   ]
  },
  {
   "cell_type": "code",
   "execution_count": null,
   "metadata": {},
   "outputs": [],
   "source": []
  }
 ],
 "metadata": {
  "kernelspec": {
   "display_name": "Python 3",
   "language": "python",
   "name": "python3"
  },
  "language_info": {
   "codemirror_mode": {
    "name": "ipython",
    "version": 3
   },
   "file_extension": ".py",
   "mimetype": "text/x-python",
   "name": "python",
   "nbconvert_exporter": "python",
   "pygments_lexer": "ipython3",
   "version": "3.6.5"
  }
 },
 "nbformat": 4,
 "nbformat_minor": 2
}
